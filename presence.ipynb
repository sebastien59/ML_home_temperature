{
 "cells": [
  {
   "cell_type": "markdown",
   "metadata": {},
   "source": [
    "# Home Presence Prediction"
   ]
  },
  {
   "cell_type": "markdown",
   "metadata": {},
   "source": [
    "This kernel is a personal training project. It aim's to predict the temperature in my appartment at a specific time to have the right temperature when I will be back home"
   ]
  },
  {
   "cell_type": "code",
   "execution_count": 27,
   "metadata": {},
   "outputs": [],
   "source": [
    "import pandas as pd\n",
    "import numpy as np\n",
    "import time\n",
    "import datetime\n",
    "from datetime import date\n",
    "import tqdm\n",
    "import matplotlib\n",
    "import matplotlib.pyplot as plt\n",
    "import pickle\n",
    "\n",
    "%matplotlib inline\n",
    "matplotlib.style.use('ggplot')"
   ]
  },
  {
   "cell_type": "markdown",
   "metadata": {},
   "source": [
    "# Retrieve Data"
   ]
  },
  {
   "cell_type": "code",
   "execution_count": 28,
   "metadata": {},
   "outputs": [
    {
     "name": "stdout",
     "output_type": "stream",
     "text": [
      "Index(['id', 'date', 'presence'], dtype='object')\n"
     ]
    }
   ],
   "source": [
    "data = pd.read_csv('./export_presence.csv') # File not in the git repo \n",
    "data = data[ data['id'] % 2 ==0]\n",
    "data = data.reset_index(drop=True)\n",
    "print(data.columns)"
   ]
  },
  {
   "cell_type": "markdown",
   "metadata": {},
   "source": [
    "# Preprocessing Data"
   ]
  },
  {
   "cell_type": "code",
   "execution_count": 29,
   "metadata": {},
   "outputs": [
    {
     "data": {
      "text/html": [
       "<div>\n",
       "<style scoped>\n",
       "    .dataframe tbody tr th:only-of-type {\n",
       "        vertical-align: middle;\n",
       "    }\n",
       "\n",
       "    .dataframe tbody tr th {\n",
       "        vertical-align: top;\n",
       "    }\n",
       "\n",
       "    .dataframe thead th {\n",
       "        text-align: right;\n",
       "    }\n",
       "</style>\n",
       "<table border=\"1\" class=\"dataframe\">\n",
       "  <thead>\n",
       "    <tr style=\"text-align: right;\">\n",
       "      <th></th>\n",
       "      <th>id</th>\n",
       "      <th>date</th>\n",
       "      <th>presence</th>\n",
       "      <th>hour</th>\n",
       "      <th>weekday</th>\n",
       "    </tr>\n",
       "  </thead>\n",
       "  <tbody>\n",
       "    <tr>\n",
       "      <th>0</th>\n",
       "      <td>16</td>\n",
       "      <td>1814400.0</td>\n",
       "      <td>0</td>\n",
       "      <td>27600</td>\n",
       "      <td>0.0</td>\n",
       "    </tr>\n",
       "    <tr>\n",
       "      <th>1</th>\n",
       "      <td>18</td>\n",
       "      <td>1814400.0</td>\n",
       "      <td>0</td>\n",
       "      <td>27840</td>\n",
       "      <td>0.0</td>\n",
       "    </tr>\n",
       "    <tr>\n",
       "      <th>2</th>\n",
       "      <td>20</td>\n",
       "      <td>1814400.0</td>\n",
       "      <td>0</td>\n",
       "      <td>28080</td>\n",
       "      <td>0.0</td>\n",
       "    </tr>\n",
       "    <tr>\n",
       "      <th>3</th>\n",
       "      <td>22</td>\n",
       "      <td>1814400.0</td>\n",
       "      <td>0</td>\n",
       "      <td>28320</td>\n",
       "      <td>0.0</td>\n",
       "    </tr>\n",
       "    <tr>\n",
       "      <th>4</th>\n",
       "      <td>24</td>\n",
       "      <td>1814400.0</td>\n",
       "      <td>0</td>\n",
       "      <td>28560</td>\n",
       "      <td>0.0</td>\n",
       "    </tr>\n",
       "    <tr>\n",
       "      <th>5</th>\n",
       "      <td>26</td>\n",
       "      <td>1814400.0</td>\n",
       "      <td>0</td>\n",
       "      <td>28800</td>\n",
       "      <td>0.0</td>\n",
       "    </tr>\n",
       "    <tr>\n",
       "      <th>6</th>\n",
       "      <td>28</td>\n",
       "      <td>1814400.0</td>\n",
       "      <td>0</td>\n",
       "      <td>29040</td>\n",
       "      <td>0.0</td>\n",
       "    </tr>\n",
       "    <tr>\n",
       "      <th>7</th>\n",
       "      <td>30</td>\n",
       "      <td>1814400.0</td>\n",
       "      <td>0</td>\n",
       "      <td>29280</td>\n",
       "      <td>0.0</td>\n",
       "    </tr>\n",
       "    <tr>\n",
       "      <th>8</th>\n",
       "      <td>32</td>\n",
       "      <td>1814400.0</td>\n",
       "      <td>0</td>\n",
       "      <td>29520</td>\n",
       "      <td>0.0</td>\n",
       "    </tr>\n",
       "    <tr>\n",
       "      <th>9</th>\n",
       "      <td>34</td>\n",
       "      <td>1814400.0</td>\n",
       "      <td>0</td>\n",
       "      <td>29760</td>\n",
       "      <td>0.0</td>\n",
       "    </tr>\n",
       "  </tbody>\n",
       "</table>\n",
       "</div>"
      ],
      "text/plain": [
       "   id       date  presence   hour  weekday\n",
       "0  16  1814400.0         0  27600      0.0\n",
       "1  18  1814400.0         0  27840      0.0\n",
       "2  20  1814400.0         0  28080      0.0\n",
       "3  22  1814400.0         0  28320      0.0\n",
       "4  24  1814400.0         0  28560      0.0\n",
       "5  26  1814400.0         0  28800      0.0\n",
       "6  28  1814400.0         0  29040      0.0\n",
       "7  30  1814400.0         0  29280      0.0\n",
       "8  32  1814400.0         0  29520      0.0\n",
       "9  34  1814400.0         0  29760      0.0"
      ]
     },
     "execution_count": 29,
     "metadata": {},
     "output_type": "execute_result"
    }
   ],
   "source": [
    "data = data.assign(hour = [ str() for i in range(data.shape[0]) ])\n",
    "data = data.assign(weekday = [ np.nan for i in range(data.shape[0]) ])\n",
    "data.columns\n",
    "\n",
    "j=0\n",
    "for value in data.values:\n",
    "    data.at[j, 'hour'] = value[3] = value[1].split(' ')[1].split('.')[0][:5]\n",
    "    data.at[j, 'date'] = value[1] = value[1].split(' ')[0]\n",
    "        \n",
    "    split_date = value[1].split('-')\n",
    "    data.at[j, 'weekday'] = date(int(split_date[0]), int(split_date[1]), int(split_date[2])).weekday()\n",
    "    \n",
    "    j+=1\n",
    "\n",
    "data['hour'] = data['hour'].apply(lambda x: int(x.split(':')[0])*3600+int(x.split(':')[1])*60)\n",
    "data['date'] = data['date'].apply(lambda x: time.mktime(datetime.datetime.strptime(x, \"%Y-%m-%d\").timetuple()) - time.mktime(datetime.datetime.strptime(x.split('-')[0], \"%Y\").timetuple()))\n",
    "\n",
    "data.head(10)"
   ]
  },
  {
   "cell_type": "code",
   "execution_count": 30,
   "metadata": {},
   "outputs": [
    {
     "name": "stderr",
     "output_type": "stream",
     "text": [
      "/home/sebastien/anaconda3/lib/python3.6/site-packages/sklearn/preprocessing/data.py:323: DataConversionWarning: Data with input dtype int64, float64 were all converted to float64 by MinMaxScaler.\n",
      "  return self.partial_fit(X, y)\n"
     ]
    }
   ],
   "source": [
    "from sklearn.preprocessing import MinMaxScaler\n",
    "\n",
    "data = data.drop(['id'], axis=1)\n",
    "\n",
    "X = data[data.columns.drop('presence')]\n",
    "scaler_x = MinMaxScaler()\n",
    "X_scale = scaler_x.fit_transform(X)\n",
    "\n",
    "y = data['presence']"
   ]
  },
  {
   "cell_type": "markdown",
   "metadata": {},
   "source": [
    "# Data visualisation"
   ]
  },
  {
   "cell_type": "code",
   "execution_count": 31,
   "metadata": {},
   "outputs": [
    {
     "data": {
      "image/png": "[encoded data removed]",
      "text/plain": [
       "<Figure size 288x288 with 2 Axes>"
      ]
     },
     "metadata": {},
     "output_type": "display_data"
    }
   ],
   "source": [
    "data_corelation = data.copy()\n",
    "corr_matrix = data_corelation.corr()\n",
    "plt.matshow(corr_matrix)\n",
    "plt.xticks(range(len(corr_matrix.index)), corr_matrix.index)\n",
    "plt.yticks(range(len(corr_matrix.index)), corr_matrix.index)\n",
    "plt.colorbar()\n",
    "plt.show()"
   ]
  },
  {
   "cell_type": "code",
   "execution_count": 32,
   "metadata": {},
   "outputs": [
    {
     "name": "stdout",
     "output_type": "stream",
     "text": [
      "[0.93781424 0.93516803 0.93675576 0.93702038 0.93702038 0.93382742\n",
      " 0.92694547 0.93303335 0.93859185 0.93568025]\n",
      "0.9351857125786804\n",
      "0.066534339023422\n",
      "0.933465660976578\n"
     ]
    }
   ],
   "source": [
    "from sklearn.model_selection import train_test_split, cross_val_score\n",
    "from sklearn.metrics import mean_squared_error\n",
    "\n",
    "# Create training dataset\n",
    "train_X, test_X, train_y, test_y = train_test_split(X_scale, y, random_state = 1)\n",
    "\n",
    "from xgboost import XGBClassifier\n",
    "from sklearn.metrics import mean_absolute_error\n",
    "\n",
    "xgb_model = XGBClassifier(base_score=0.2, booster='gbtree', learning_rate=0.39, max_depth = 7)\n",
    "xgb_model.fit(train_X, train_y, verbose=False)\n",
    "val_pred = xgb_model.predict(test_X)\n",
    "xgb_score = xgb_model.score(test_X, test_y)\n",
    "\n",
    "accuracies = cross_val_score(xgb_model, train_X, y=train_y, verbose=False, cv=10)\n",
    "print(accuracies)\n",
    "print(accuracies.mean())\n",
    "\n",
    "pickle.dump(xgb_model, open('./presence.model.pickle', \"wb\"))\n",
    "\n",
    "print(mean_squared_error(val_pred, test_y))\n",
    "print(xgb_score)"
   ]
  },
  {
   "cell_type": "code",
   "execution_count": 33,
   "metadata": {},
   "outputs": [
    {
     "name": "stdout",
     "output_type": "stream",
     "text": [
      "Index(['date', 'hour', 'weekday'], dtype='object')\n"
     ]
    },
    {
     "data": {
      "image/png": "[encoded data removed]",
      "text/plain": [
       "<Figure size 432x288 with 1 Axes>"
      ]
     },
     "metadata": {},
     "output_type": "display_data"
    }
   ],
   "source": [
    "print(X.columns)\n",
    "plt.bar(range(len(xgb_model.feature_importances_)), xgb_model.feature_importances_)\n",
    "plt.show()"
   ]
  },
  {
   "cell_type": "code",
   "execution_count": 34,
   "metadata": {},
   "outputs": [
    {
     "name": "stdout",
     "output_type": "stream",
     "text": [
      "0.933465660976578\n"
     ]
    }
   ],
   "source": [
    "loaded_model = pickle.load(open(\"./presence.model.pickle\", \"rb\"))\n",
    "# make predictions for test data\n",
    "y_pred = loaded_model.predict(test_X)\n",
    "# evaluate predictions\n",
    "print(loaded_model.score(test_X, test_y))"
   ]
  },
  {
   "cell_type": "code",
   "execution_count": null,
   "metadata": {},
   "outputs": [],
   "source": []
  }
 ],
 "metadata": {
  "kernelspec": {
   "display_name": "Python 3",
   "language": "python",
   "name": "python3"
  },
  "language_info": {
   "codemirror_mode": {
    "name": "ipython",
    "version": 3
   },
   "file_extension": ".py",
   "mimetype": "text/x-python",
   "name": "python",
   "nbconvert_exporter": "python",
   "pygments_lexer": "ipython3",
   "version": "3.6.6"
  }
 },
 "nbformat": 4,
 "nbformat_minor": 2
}
